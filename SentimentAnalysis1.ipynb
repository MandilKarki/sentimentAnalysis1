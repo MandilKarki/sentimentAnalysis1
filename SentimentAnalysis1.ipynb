{
  "nbformat": 4,
  "nbformat_minor": 0,
  "metadata": {
    "colab": {
      "name": "SentimentAnalysis1.ipynb",
      "provenance": [],
      "authorship_tag": "ABX9TyOOeAwYn4PPgpHP0xjupd+s",
      "include_colab_link": true
    },
    "kernelspec": {
      "name": "python3",
      "display_name": "Python 3"
    }
  },
  "cells": [
    {
      "cell_type": "markdown",
      "metadata": {
        "id": "view-in-github",
        "colab_type": "text"
      },
      "source": [
        "<a href=\"https://colab.research.google.com/github/MandilKarki/sentimentAnalysis1/blob/main/SentimentAnalysis1.ipynb\" target=\"_parent\"><img src=\"https://colab.research.google.com/assets/colab-badge.svg\" alt=\"Open In Colab\"/></a>"
      ]
    },
    {
      "cell_type": "code",
      "metadata": {
        "id": "Xvu2WlQnVgbA"
      },
      "source": [
        ""
      ],
      "execution_count": null,
      "outputs": []
    },
    {
      "cell_type": "markdown",
      "metadata": {
        "id": "Ju2DSap2aPwe"
      },
      "source": [
        "#Sentiment analysis using machine learning and python\n",
        "Get the sentiment of a text from a website"
      ]
    },
    {
      "cell_type": "code",
      "metadata": {
        "id": "4eJmYDY0adAS"
      },
      "source": [
        "#pip install newspaper3k"
      ],
      "execution_count": 11,
      "outputs": []
    },
    {
      "cell_type": "code",
      "metadata": {
        "id": "I8h4_pIdarEx"
      },
      "source": [
        "#import the libraries\n",
        "\n",
        "from textblob import TextBlob\n",
        "import nltk\n",
        "from newspaper import Article"
      ],
      "execution_count": 12,
      "outputs": []
    },
    {
      "cell_type": "code",
      "metadata": {
        "id": "sxM9vq6vbSKp"
      },
      "source": [
        "#get the article\n",
        "url = \"http://everythingcomputerscience.com\"\n",
        "article = Article(url)"
      ],
      "execution_count": 13,
      "outputs": []
    },
    {
      "cell_type": "code",
      "metadata": {
        "id": "3x6jeqTHbhIf",
        "outputId": "47128b0f-0954-46e1-92b9-16c14e9a28d0",
        "colab": {
          "base_uri": "https://localhost:8080/"
        }
      },
      "source": [
        "#Do some nlp\n",
        "article.download()\n",
        "article.parse()\n",
        "nltk.download('punkt')\n",
        "article.nlp()"
      ],
      "execution_count": 14,
      "outputs": [
        {
          "output_type": "stream",
          "text": [
            "[nltk_data] Downloading package punkt to /root/nltk_data...\n",
            "[nltk_data]   Package punkt is already up-to-date!\n"
          ],
          "name": "stdout"
        }
      ]
    },
    {
      "cell_type": "code",
      "metadata": {
        "id": "bzXrn8Vubqkr"
      },
      "source": [
        "#Get the summary of the article\n",
        "text = article.summary"
      ],
      "execution_count": 15,
      "outputs": []
    },
    {
      "cell_type": "code",
      "metadata": {
        "id": "_gC1vUCscAPm",
        "outputId": "8177d669-c2c6-49e3-b4c9-62ae63d9041d",
        "colab": {
          "base_uri": "https://localhost:8080/"
        }
      },
      "source": [
        "#print the text\n",
        "print(text)"
      ],
      "execution_count": 16,
      "outputs": [
        {
          "output_type": "stream",
          "text": [
            "Computer Science (CS)Computer Science (CS) is the study of the principles and use of computers.\n",
            "Simply put it's the science that deals with the theory and methods of processing information in digital computers, the design of computer hardware and software, and the applications of computers.\n",
            "A computer is simply a tool for a computer scientist, like a telescope for an astronomer.\n",
            "Teach yourself !\n"
          ],
          "name": "stdout"
        }
      ]
    },
    {
      "cell_type": "code",
      "metadata": {
        "id": "E-ksOKdncEZ_",
        "outputId": "c2466bfa-63a5-4b65-b026-2c4f726d6ab1",
        "colab": {
          "base_uri": "https://localhost:8080/"
        }
      },
      "source": [
        "#create a textblob object\n",
        "obj = TextBlob(text)\n",
        "#this returns a value between -1 and 1\n",
        "Sentiment = obj.sentiment.polarity\n",
        "print(Sentiment)"
      ],
      "execution_count": 17,
      "outputs": [
        {
          "output_type": "stream",
          "text": [
            "0.0\n"
          ],
          "name": "stdout"
        }
      ]
    },
    {
      "cell_type": "code",
      "metadata": {
        "id": "wOkYgc5xcerF",
        "outputId": "73f57365-3519-41db-aa61-7b5a5d3b29a0",
        "colab": {
          "base_uri": "https://localhost:8080/"
        }
      },
      "source": [
        "if Sentiment == 0:\n",
        "  print(\"the text is neutral\")\n",
        "elif sentiment > 0:\n",
        "  print(\"the text is positive\")\n",
        "else:\n",
        "  print(\"the text is negataive\")\n"
      ],
      "execution_count": 18,
      "outputs": [
        {
          "output_type": "stream",
          "text": [
            "the text is neutral\n"
          ],
          "name": "stdout"
        }
      ]
    },
    {
      "cell_type": "code",
      "metadata": {
        "id": "C38fl9_Vc3iB"
      },
      "source": [
        ""
      ],
      "execution_count": null,
      "outputs": []
    }
  ]
}